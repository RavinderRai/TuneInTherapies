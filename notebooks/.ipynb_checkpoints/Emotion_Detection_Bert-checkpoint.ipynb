{
 "cells": [
  {
   "cell_type": "markdown",
   "id": "ad6b5b2b-e00f-4492-8ad0-b8c42528c792",
   "metadata": {},
   "source": [
    "# Modeling to Detect Emotion\n",
    "\n",
    "A lot of the code here follows: https://www.sunnyville.ai/fine-tuning-distilbert-multi-class-text-classification-using-transformers-and-tensorflow/ and this other link might be useful: https://huggingface.co/docs/transformers/tasks/sequence_classification.\n",
    "\n"
   ]
  },
  {
   "cell_type": "code",
   "execution_count": 1,
   "id": "7f5e6c62-131d-434a-bba7-ad41ffad7596",
   "metadata": {},
   "outputs": [],
   "source": [
    "import pandas as pd\n",
    "import pickle\n",
    "from collections import Counter\n",
    "\n",
    "from transformers import DistilBertTokenizer\n",
    "from transformers import TFDistilBertForSequenceClassification\n",
    "import tensorflow as tf\n",
    "import json\n",
    "import gc\n"
   ]
  },
  {
   "cell_type": "code",
   "execution_count": 2,
   "id": "7ce77b21-ac94-4edd-a802-a89471aabfcf",
   "metadata": {},
   "outputs": [],
   "source": [
    "file_path = 'negative_emotions_df.pkl'\n",
    "\n",
    "with open(file_path, 'rb') as file:\n",
    "    df = pickle.load(file)"
   ]
  },
  {
   "cell_type": "code",
   "execution_count": 3,
   "id": "40b41b5f-d570-4ffc-98da-26b1312dd38c",
   "metadata": {},
   "outputs": [
    {
     "data": {
      "text/html": [
       "<div>\n",
       "<style scoped>\n",
       "    .dataframe tbody tr th:only-of-type {\n",
       "        vertical-align: middle;\n",
       "    }\n",
       "\n",
       "    .dataframe tbody tr th {\n",
       "        vertical-align: top;\n",
       "    }\n",
       "\n",
       "    .dataframe thead th {\n",
       "        text-align: right;\n",
       "    }\n",
       "</style>\n",
       "<table border=\"1\" class=\"dataframe\">\n",
       "  <thead>\n",
       "    <tr style=\"text-align: right;\">\n",
       "      <th></th>\n",
       "      <th>text</th>\n",
       "      <th>emotion</th>\n",
       "    </tr>\n",
       "  </thead>\n",
       "  <tbody>\n",
       "    <tr>\n",
       "      <th>0</th>\n",
       "      <td>[tiffanylue, know, listenin, bad, habit, earli...</td>\n",
       "      <td>empty</td>\n",
       "    </tr>\n",
       "    <tr>\n",
       "      <th>1</th>\n",
       "      <td>[layin, n, bed, headache, ughhhhwaitin, call]</td>\n",
       "      <td>sadness</td>\n",
       "    </tr>\n",
       "    <tr>\n",
       "      <th>2</th>\n",
       "      <td>[funeral, ceremonygloomy, friday]</td>\n",
       "      <td>sadness</td>\n",
       "    </tr>\n",
       "    <tr>\n",
       "      <th>5</th>\n",
       "      <td>[repinging, ghostridah14, didnt, go, prom, ?, ...</td>\n",
       "      <td>worry</td>\n",
       "    </tr>\n",
       "    <tr>\n",
       "      <th>6</th>\n",
       "      <td>[i, sleep, im, not, !, thinking, old, friend, ...</td>\n",
       "      <td>sadness</td>\n",
       "    </tr>\n",
       "  </tbody>\n",
       "</table>\n",
       "</div>"
      ],
      "text/plain": [
       "                                                text  emotion\n",
       "0  [tiffanylue, know, listenin, bad, habit, earli...    empty\n",
       "1      [layin, n, bed, headache, ughhhhwaitin, call]  sadness\n",
       "2                  [funeral, ceremonygloomy, friday]  sadness\n",
       "5  [repinging, ghostridah14, didnt, go, prom, ?, ...    worry\n",
       "6  [i, sleep, im, not, !, thinking, old, friend, ...  sadness"
      ]
     },
     "execution_count": 3,
     "metadata": {},
     "output_type": "execute_result"
    }
   ],
   "source": [
    "df.head()"
   ]
  },
  {
   "cell_type": "code",
   "execution_count": 4,
   "id": "c0526b6c-dca7-4b8b-8dab-69dc4fb6bcef",
   "metadata": {},
   "outputs": [
    {
     "data": {
      "text/plain": [
       "(34753, 2)"
      ]
     },
     "execution_count": 4,
     "metadata": {},
     "output_type": "execute_result"
    }
   ],
   "source": [
    "df.shape"
   ]
  },
  {
   "cell_type": "code",
   "execution_count": 5,
   "id": "4090f1f8-e0a0-4844-b120-215f265e1f49",
   "metadata": {},
   "outputs": [],
   "source": [
    "df = df[df['emotion'] != 'empty']"
   ]
  },
  {
   "cell_type": "code",
   "execution_count": 6,
   "id": "6b6a1d3e-77a1-4347-b245-22b7db3046d3",
   "metadata": {},
   "outputs": [],
   "source": [
    "df['encoded_cat'] = df['emotion'].astype('category').cat.codes"
   ]
  },
  {
   "cell_type": "code",
   "execution_count": 7,
   "id": "fa8db848-f5fd-4e12-8509-01ae09f79c39",
   "metadata": {},
   "outputs": [
    {
     "data": {
      "text/html": [
       "<div>\n",
       "<style scoped>\n",
       "    .dataframe tbody tr th:only-of-type {\n",
       "        vertical-align: middle;\n",
       "    }\n",
       "\n",
       "    .dataframe tbody tr th {\n",
       "        vertical-align: top;\n",
       "    }\n",
       "\n",
       "    .dataframe thead th {\n",
       "        text-align: right;\n",
       "    }\n",
       "</style>\n",
       "<table border=\"1\" class=\"dataframe\">\n",
       "  <thead>\n",
       "    <tr style=\"text-align: right;\">\n",
       "      <th></th>\n",
       "      <th>text</th>\n",
       "      <th>emotion</th>\n",
       "      <th>encoded_cat</th>\n",
       "    </tr>\n",
       "  </thead>\n",
       "  <tbody>\n",
       "    <tr>\n",
       "      <th>1</th>\n",
       "      <td>[layin, n, bed, headache, ughhhhwaitin, call]</td>\n",
       "      <td>sadness</td>\n",
       "      <td>1</td>\n",
       "    </tr>\n",
       "    <tr>\n",
       "      <th>2</th>\n",
       "      <td>[funeral, ceremonygloomy, friday]</td>\n",
       "      <td>sadness</td>\n",
       "      <td>1</td>\n",
       "    </tr>\n",
       "    <tr>\n",
       "      <th>5</th>\n",
       "      <td>[repinging, ghostridah14, didnt, go, prom, ?, ...</td>\n",
       "      <td>worry</td>\n",
       "      <td>2</td>\n",
       "    </tr>\n",
       "    <tr>\n",
       "      <th>6</th>\n",
       "      <td>[i, sleep, im, not, !, thinking, old, friend, ...</td>\n",
       "      <td>sadness</td>\n",
       "      <td>1</td>\n",
       "    </tr>\n",
       "    <tr>\n",
       "      <th>7</th>\n",
       "      <td>[hmmm, httpwwwdjherocom]</td>\n",
       "      <td>worry</td>\n",
       "      <td>2</td>\n",
       "    </tr>\n",
       "  </tbody>\n",
       "</table>\n",
       "</div>"
      ],
      "text/plain": [
       "                                                text  emotion  encoded_cat\n",
       "1      [layin, n, bed, headache, ughhhhwaitin, call]  sadness            1\n",
       "2                  [funeral, ceremonygloomy, friday]  sadness            1\n",
       "5  [repinging, ghostridah14, didnt, go, prom, ?, ...    worry            2\n",
       "6  [i, sleep, im, not, !, thinking, old, friend, ...  sadness            1\n",
       "7                           [hmmm, httpwwwdjherocom]    worry            2"
      ]
     },
     "execution_count": 7,
     "metadata": {},
     "output_type": "execute_result"
    }
   ],
   "source": [
    "df.head()"
   ]
  },
  {
   "cell_type": "code",
   "execution_count": 8,
   "id": "bb1411f8-d84c-4519-9417-8d34f3017d47",
   "metadata": {},
   "outputs": [
    {
     "data": {
      "text/plain": [
       "Counter({'sadness': 17684, 'worry': 8459, 'fear': 7783})"
      ]
     },
     "execution_count": 8,
     "metadata": {},
     "output_type": "execute_result"
    }
   ],
   "source": [
    "Counter(df['emotion'])"
   ]
  },
  {
   "cell_type": "code",
   "execution_count": 9,
   "id": "0bedd24c-9056-48f9-8fd9-b6e16bbdc942",
   "metadata": {},
   "outputs": [
    {
     "data": {
      "text/plain": [
       "Counter({1: 17684, 2: 8459, 0: 7783})"
      ]
     },
     "execution_count": 9,
     "metadata": {},
     "output_type": "execute_result"
    }
   ],
   "source": [
    "Counter(df['encoded_cat'])"
   ]
  },
  {
   "cell_type": "markdown",
   "id": "b37a0b7c-51a3-4cdf-815b-613ca52ce375",
   "metadata": {},
   "source": [
    "So 0 is empty, 1 is fear, 2 is sadness, and 3 is worry\n",
    "\n",
    "Upon further review, the empty emotion doesn't seem to be in line with depression, and is not represented very well which makes training harder. Since we have a time constraint, we will omit it.\n",
    "\n",
    "This means that 0 is fear, 1 is sadness, and 2 is worry"
   ]
  },
  {
   "cell_type": "code",
   "execution_count": 10,
   "id": "a8d6bbbf-8fa9-4a8d-a008-5917663b92fa",
   "metadata": {},
   "outputs": [],
   "source": [
    "df['text'] = df['text'].str.join(' ')"
   ]
  },
  {
   "cell_type": "code",
   "execution_count": 11,
   "id": "5720fc4d-c7bf-40ce-8172-37ae21ef83d0",
   "metadata": {},
   "outputs": [],
   "source": [
    "data_texts = df[\"text\"].to_list() # Features (not-tokenized yet)\n",
    "data_labels = df[\"encoded_cat\"].to_list() # Lables\n"
   ]
  },
  {
   "cell_type": "code",
   "execution_count": 12,
   "id": "5d463a4d-b396-4717-a82c-2078182eceae",
   "metadata": {},
   "outputs": [],
   "source": [
    "from sklearn.model_selection import train_test_split\n",
    "\n",
    "# Split Train and Validation data\n",
    "train_texts, val_texts, train_labels, val_labels = train_test_split(data_texts, data_labels, test_size=0.2, random_state=0)\n",
    "\n",
    "# Keep some data for inference (testing)\n",
    "train_texts, test_texts, train_labels, test_labels = train_test_split(train_texts, train_labels, test_size=0.01, random_state=0)\n"
   ]
  },
  {
   "cell_type": "code",
   "execution_count": 13,
   "id": "4033417d-e80d-4fb0-9625-22e9f5b1b254",
   "metadata": {},
   "outputs": [],
   "source": [
    "tokenizer = DistilBertTokenizer.from_pretrained('distilbert-base-uncased')\n",
    "train_encodings = tokenizer(train_texts, truncation=True, padding=True)\n",
    "val_encodings = tokenizer(val_texts, truncation=True, padding=True)\n",
    "test_encodings = tokenizer(test_texts, truncation=True, padding=True)\n"
   ]
  },
  {
   "cell_type": "code",
   "execution_count": 14,
   "id": "bbac6427-a42f-44e1-bd80-74484a0925b1",
   "metadata": {},
   "outputs": [],
   "source": [
    "train_dataset = tf.data.Dataset.from_tensor_slices((\n",
    "    dict(train_encodings),\n",
    "    train_labels\n",
    "))\n",
    "val_dataset = tf.data.Dataset.from_tensor_slices((\n",
    "    dict(val_encodings),\n",
    "    val_labels\n",
    "))\n",
    "test_dataset = tf.data.Dataset.from_tensor_slices((\n",
    "    dict(test_encodings),\n",
    "    test_labels\n",
    "))"
   ]
  },
  {
   "cell_type": "code",
   "execution_count": 15,
   "id": "a877746b-72cf-4cba-b94a-b77d0c48cb44",
   "metadata": {},
   "outputs": [
    {
     "name": "stderr",
     "output_type": "stream",
     "text": [
      "Some layers from the model checkpoint at distilbert-base-uncased were not used when initializing TFDistilBertForSequenceClassification: ['vocab_projector', 'vocab_transform', 'activation_13', 'vocab_layer_norm']\n",
      "- This IS expected if you are initializing TFDistilBertForSequenceClassification from the checkpoint of a model trained on another task or with another architecture (e.g. initializing a BertForSequenceClassification model from a BertForPreTraining model).\n",
      "- This IS NOT expected if you are initializing TFDistilBertForSequenceClassification from the checkpoint of a model that you expect to be exactly identical (initializing a BertForSequenceClassification model from a BertForSequenceClassification model).\n",
      "Some layers of TFDistilBertForSequenceClassification were not initialized from the model checkpoint at distilbert-base-uncased and are newly initialized: ['dropout_19', 'pre_classifier', 'classifier']\n",
      "You should probably TRAIN this model on a down-stream task to be able to use it for predictions and inference.\n",
      "No loss specified in compile() - the model's internal loss computation will be used as the loss. Don't panic - this is a common way to train TensorFlow models in Transformers! To disable this behaviour please pass a loss argument, or explicitly pass `loss=None` if you do not want your model to compute a loss.\n"
     ]
    }
   ],
   "source": [
    "import tensorflow_addons as tfa\n",
    "\n",
    "model = TFDistilBertForSequenceClassification.from_pretrained('distilbert-base-uncased', num_labels=3)\n",
    "\n",
    "kappa = tfa.metrics.CohenKappa(num_classes=3, weightage = None, name = 'kappa')\n",
    "#f1_score_macro = tfa.metrics.F1Score(num_classes=3, average='macro', name = 'f1_macro')\n",
    "f1_score_weighted = tfa.metrics.F1Score(num_classes=3, average='weighted', name = 'f1_weighted')\n",
    "#f1 = tf.keras.metrics.F1Score(average='weighted', threshold=None, name='f1_score', dtype=None)\n",
    "\n",
    "\n",
    "optimizer = tf.keras.optimizers.Adam(learning_rate=0.00001)\n",
    "model.compile(optimizer=optimizer, metrics=['accuracy'])"
   ]
  },
  {
   "cell_type": "code",
   "execution_count": 16,
   "id": "6f36fc38-a997-4592-b65f-d41632a1e84b",
   "metadata": {},
   "outputs": [
    {
     "name": "stdout",
     "output_type": "stream",
     "text": [
      "Epoch 1/5\n",
      "1680/1680 [==============================] - 210s 120ms/step - loss: 0.6584 - accuracy: 0.6784 - val_loss: 0.5539 - val_accuracy: 0.7308\n",
      "Epoch 2/5\n",
      "1680/1680 [==============================] - 199s 118ms/step - loss: 0.4935 - accuracy: 0.7676 - val_loss: 0.5422 - val_accuracy: 0.7452\n",
      "Epoch 3/5\n",
      "1680/1680 [==============================] - 201s 120ms/step - loss: 0.3995 - accuracy: 0.8137 - val_loss: 0.5621 - val_accuracy: 0.7477\n",
      "Epoch 4/5\n",
      "1680/1680 [==============================] - 200s 119ms/step - loss: 0.3120 - accuracy: 0.8604 - val_loss: 0.6478 - val_accuracy: 0.7368\n",
      "Epoch 5/5\n",
      "1680/1680 [==============================] - 199s 118ms/step - loss: 0.2289 - accuracy: 0.9017 - val_loss: 0.7079 - val_accuracy: 0.7311\n"
     ]
    },
    {
     "data": {
      "text/plain": [
       "<keras.callbacks.History at 0x2af888656d0>"
      ]
     },
     "execution_count": 16,
     "metadata": {},
     "output_type": "execute_result"
    }
   ],
   "source": [
    "model.fit(train_dataset.shuffle(1000).batch(16), epochs=5, batch_size=16,\n",
    "          validation_data=val_dataset.shuffle(1000).batch(16))"
   ]
  },
  {
   "cell_type": "code",
   "execution_count": 17,
   "id": "544e37a2-370a-4cb1-b85d-2de97f41b95b",
   "metadata": {},
   "outputs": [],
   "source": [
    "metrics = pd.DataFrame(model.history.history)"
   ]
  },
  {
   "cell_type": "code",
   "execution_count": 18,
   "id": "3317fb1b-07d0-4612-8f7b-78ea8a1b4926",
   "metadata": {},
   "outputs": [
    {
     "data": {
      "image/png": "[encoded data removed]",
      "text/plain": [
       "<Figure size 640x480 with 1 Axes>"
      ]
     },
     "metadata": {},
     "output_type": "display_data"
    }
   ],
   "source": [
    "import matplotlib.pyplot as plt\n",
    "\n",
    "plt.plot(metrics['accuracy'])\n",
    "plt.plot(metrics['val_accuracy'])\n",
    "plt.show()"
   ]
  },
  {
   "cell_type": "code",
   "execution_count": 55,
   "id": "7b02a2ec-2f1f-42ec-abdc-8f389fca645e",
   "metadata": {},
   "outputs": [
    {
     "data": {
      "text/plain": [
       "'makes sense greatfirewallofchinaorg site test whether site blocked china blocked china get that ? any others ?'"
      ]
     },
     "execution_count": 55,
     "metadata": {},
     "output_type": "execute_result"
    }
   ],
   "source": [
    "test_text = test_texts[26]\n",
    "test_text"
   ]
  },
  {
   "cell_type": "code",
   "execution_count": 56,
   "id": "5ab6949b-395b-4629-9067-59c46cb7efe9",
   "metadata": {},
   "outputs": [
    {
     "data": {
      "text/plain": [
       "2"
      ]
     },
     "execution_count": 56,
     "metadata": {},
     "output_type": "execute_result"
    }
   ],
   "source": [
    "predict_input = tokenizer.encode(test_text,\n",
    "                                 truncation=True,\n",
    "                                 padding=True,\n",
    "                                 return_tensors=\"tf\")\n",
    "\n",
    "output = model(predict_input)[0]\n",
    "\n",
    "prediction_value = tf.argmax(output, axis=1).numpy()[0]\n",
    "prediction_value"
   ]
  },
  {
   "cell_type": "code",
   "execution_count": 57,
   "id": "95b0c81d-2a8c-4c95-9345-ef3b0cb1bb45",
   "metadata": {},
   "outputs": [
    {
     "data": {
      "text/plain": [
       "1"
      ]
     },
     "execution_count": 57,
     "metadata": {},
     "output_type": "execute_result"
    }
   ],
   "source": [
    "test_labels[1]"
   ]
  },
  {
   "cell_type": "code",
   "execution_count": 58,
   "id": "10db58fc-c417-4fa2-a5e2-76815ee01005",
   "metadata": {},
   "outputs": [],
   "source": [
    "def score_each_class(output):\n",
    "    #softmax will give the output as probabilities\n",
    "    softmax = tf.nn.softmax(output)\n",
    "    \n",
    "    #convert to numpy\n",
    "    scores = softmax.numpy()[0]\n",
    "    \n",
    "    #multiply by 10 to get scores out of 10\n",
    "    scores = scores*10\n",
    "    \n",
    "    return scores"
   ]
  },
  {
   "cell_type": "code",
   "execution_count": 59,
   "id": "6f9aed48-dab5-4f17-b81d-9f849758322a",
   "metadata": {},
   "outputs": [
    {
     "data": {
      "text/plain": [
       "array([0.22312336, 0.7443739 , 9.032503  ], dtype=float32)"
      ]
     },
     "execution_count": 59,
     "metadata": {},
     "output_type": "execute_result"
    }
   ],
   "source": [
    "score_each_class(output)"
   ]
  },
  {
   "cell_type": "code",
   "execution_count": 167,
   "id": "c9beda3f-d851-45c4-94e9-980ddd5735f7",
   "metadata": {},
   "outputs": [],
   "source": [
    "import seaborn as sns\n",
    "from sklearn.metrics import classification_report, confusion_matrix, accuracy_score, f1_score\n",
    "\n",
    "def plot_con_mat(y_test, y_pred, title):\n",
    "    con_mat = confusion_matrix(y_test, y_pred)\n",
    "\n",
    "    sns.heatmap(con_mat, annot = True, fmt = 'g', cmap='Blues', annot_kws={\"size\": 14},\n",
    "                xticklabels = [\"fear\", \"sadness\", \"worry\"], yticklabels = [\"fear\", \"sadness\", \"worry\"])\n",
    "    plt.xlabel('predicted', fontsize=16)\n",
    "    plt.ylabel('actual', fontsize=16)\n",
    "    plt.title(title, fontsize=18)\n",
    "    plt.show()"
   ]
  },
  {
   "cell_type": "code",
   "execution_count": 168,
   "id": "736b87e5-d0bb-4909-be93-e8075f6b1df3",
   "metadata": {},
   "outputs": [],
   "source": [
    "import numpy as np\n",
    "def get_test_predictions(test_texts, model):\n",
    "    y_pred_lst = []\n",
    "    for test_text in test_texts:\n",
    "        predict_input = tokenizer.encode(test_text,\n",
    "                                     truncation=True,\n",
    "                                     padding=True,\n",
    "                                     return_tensors=\"tf\")\n",
    "\n",
    "        output = model(predict_input)[0]\n",
    "\n",
    "        prediction_value = tf.argmax(output, axis=1).numpy()[0]\n",
    "        y_pred_lst.append(prediction_value)\n",
    "        \n",
    "    return y_pred_lst"
   ]
  },
  {
   "cell_type": "code",
   "execution_count": 169,
   "id": "48d7b8ec-02f6-426a-ac32-639337aa4f5b",
   "metadata": {},
   "outputs": [],
   "source": [
    "y_pred = get_test_predictions(test_texts, model)"
   ]
  },
  {
   "cell_type": "code",
   "execution_count": 170,
   "id": "9daa658f-c526-48cb-98a6-d7350304ae3d",
   "metadata": {},
   "outputs": [
    {
     "data": {
      "image/png": "[encoded data removed]",
      "text/plain": [
       "<Figure size 640x480 with 2 Axes>"
      ]
     },
     "metadata": {},
     "output_type": "display_data"
    }
   ],
   "source": [
    "plot_con_mat(test_labels, y_pred, 'testing')"
   ]
  },
  {
   "cell_type": "code",
   "execution_count": 173,
   "id": "992eae3b-5622-46a5-805e-2ded0481f7a2",
   "metadata": {},
   "outputs": [
    {
     "data": {
      "text/plain": [
       "('/saved_models\\\\tokenizer_config.json',\n",
       " '/saved_models\\\\special_tokens_map.json',\n",
       " '/saved_models\\\\vocab.txt',\n",
       " '/saved_models\\\\added_tokens.json')"
      ]
     },
     "execution_count": 173,
     "metadata": {},
     "output_type": "execute_result"
    }
   ],
   "source": [
    "#let's save the model\n",
    "\n",
    "save_directory = \"/saved_models\" # change this to your preferred location\n",
    "\n",
    "model.save_pretrained(save_directory)\n",
    "tokenizer.save_pretrained(save_directory)\n"
   ]
  },
  {
   "cell_type": "code",
   "execution_count": 172,
   "id": "8b90aa3c-bc0b-457e-b81a-2be796bfc70d",
   "metadata": {},
   "outputs": [
    {
     "name": "stderr",
     "output_type": "stream",
     "text": [
      "Some layers from the model checkpoint at /saved_models were not used when initializing TFDistilBertForSequenceClassification: ['dropout_519']\n",
      "- This IS expected if you are initializing TFDistilBertForSequenceClassification from the checkpoint of a model trained on another task or with another architecture (e.g. initializing a BertForSequenceClassification model from a BertForPreTraining model).\n",
      "- This IS NOT expected if you are initializing TFDistilBertForSequenceClassification from the checkpoint of a model that you expect to be exactly identical (initializing a BertForSequenceClassification model from a BertForSequenceClassification model).\n",
      "Some layers of TFDistilBertForSequenceClassification were not initialized from the model checkpoint at /saved_models and are newly initialized: ['dropout_539']\n",
      "You should probably TRAIN this model on a down-stream task to be able to use it for predictions and inference.\n"
     ]
    }
   ],
   "source": [
    "#load the models if needed\n",
    "\n",
    "#loaded_tokenizer = DistilBertTokenizer.from_pretrained(save_directory)\n",
    "#loaded_model = TFDistilBertForSequenceClassification.from_pretrained(save_directory)\n"
   ]
  },
  {
   "cell_type": "code",
   "execution_count": null,
   "id": "fd034e9d-49f4-46d2-a514-8c8d648255a4",
   "metadata": {},
   "outputs": [],
   "source": []
  }
 ],
 "metadata": {
  "kernelspec": {
   "display_name": "Python 3 (ipykernel)",
   "language": "python",
   "name": "python3"
  },
  "language_info": {
   "codemirror_mode": {
    "name": "ipython",
    "version": 3
   },
   "file_extension": ".py",
   "mimetype": "text/x-python",
   "name": "python",
   "nbconvert_exporter": "python",
   "pygments_lexer": "ipython3",
   "version": "3.8.5"
  }
 },
 "nbformat": 4,
 "nbformat_minor": 5
}
