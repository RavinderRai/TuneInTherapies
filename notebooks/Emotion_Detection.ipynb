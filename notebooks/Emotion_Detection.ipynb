{
 "cells": [
  {
   "cell_type": "code",
   "execution_count": 7,
   "id": "f1c3f212",
   "metadata": {},
   "outputs": [],
   "source": [
    "import numpy as np\n",
    "import pandas as pd\n",
    "from collections import Counter"
   ]
  },
  {
   "cell_type": "markdown",
   "id": "76916b12",
   "metadata": {},
   "source": [
    "This dataset came from here: https://www.kaggle.com/datasets/pashupatigupta/emotion-detection-from-text"
   ]
  },
  {
   "cell_type": "code",
   "execution_count": 8,
   "id": "8be2a7a1",
   "metadata": {},
   "outputs": [
    {
     "data": {
      "text/html": [
       "<div>\n",
       "<style scoped>\n",
       "    .dataframe tbody tr th:only-of-type {\n",
       "        vertical-align: middle;\n",
       "    }\n",
       "\n",
       "    .dataframe tbody tr th {\n",
       "        vertical-align: top;\n",
       "    }\n",
       "\n",
       "    .dataframe thead th {\n",
       "        text-align: right;\n",
       "    }\n",
       "</style>\n",
       "<table border=\"1\" class=\"dataframe\">\n",
       "  <thead>\n",
       "    <tr style=\"text-align: right;\">\n",
       "      <th></th>\n",
       "      <th>tweet_id</th>\n",
       "      <th>sentiment</th>\n",
       "      <th>content</th>\n",
       "    </tr>\n",
       "  </thead>\n",
       "  <tbody>\n",
       "    <tr>\n",
       "      <th>0</th>\n",
       "      <td>1956967341</td>\n",
       "      <td>empty</td>\n",
       "      <td>@tiffanylue i know  i was listenin to bad habi...</td>\n",
       "    </tr>\n",
       "    <tr>\n",
       "      <th>1</th>\n",
       "      <td>1956967666</td>\n",
       "      <td>sadness</td>\n",
       "      <td>Layin n bed with a headache  ughhhh...waitin o...</td>\n",
       "    </tr>\n",
       "    <tr>\n",
       "      <th>2</th>\n",
       "      <td>1956967696</td>\n",
       "      <td>sadness</td>\n",
       "      <td>Funeral ceremony...gloomy friday...</td>\n",
       "    </tr>\n",
       "    <tr>\n",
       "      <th>3</th>\n",
       "      <td>1956967789</td>\n",
       "      <td>enthusiasm</td>\n",
       "      <td>wants to hang out with friends SOON!</td>\n",
       "    </tr>\n",
       "    <tr>\n",
       "      <th>4</th>\n",
       "      <td>1956968416</td>\n",
       "      <td>neutral</td>\n",
       "      <td>@dannycastillo We want to trade with someone w...</td>\n",
       "    </tr>\n",
       "  </tbody>\n",
       "</table>\n",
       "</div>"
      ],
      "text/plain": [
       "     tweet_id   sentiment                                            content\n",
       "0  1956967341       empty  @tiffanylue i know  i was listenin to bad habi...\n",
       "1  1956967666     sadness  Layin n bed with a headache  ughhhh...waitin o...\n",
       "2  1956967696     sadness                Funeral ceremony...gloomy friday...\n",
       "3  1956967789  enthusiasm               wants to hang out with friends SOON!\n",
       "4  1956968416     neutral  @dannycastillo We want to trade with someone w..."
      ]
     },
     "execution_count": 8,
     "metadata": {},
     "output_type": "execute_result"
    }
   ],
   "source": [
    "df = pd.read_csv(\"tweet_emotions.csv\")\n",
    "df.head()"
   ]
  },
  {
   "cell_type": "code",
   "execution_count": 9,
   "id": "c0e75053",
   "metadata": {},
   "outputs": [
    {
     "data": {
      "text/plain": [
       "Counter({'empty': 827,\n",
       "         'sadness': 5165,\n",
       "         'enthusiasm': 759,\n",
       "         'neutral': 8638,\n",
       "         'worry': 8459,\n",
       "         'surprise': 2187,\n",
       "         'love': 3842,\n",
       "         'fun': 1776,\n",
       "         'hate': 1323,\n",
       "         'happiness': 5209,\n",
       "         'boredom': 179,\n",
       "         'relief': 1526,\n",
       "         'anger': 110})"
      ]
     },
     "execution_count": 9,
     "metadata": {},
     "output_type": "execute_result"
    }
   ],
   "source": [
    "Counter(df['sentiment'])"
   ]
  },
  {
   "cell_type": "code",
   "execution_count": 23,
   "id": "f3e58b08",
   "metadata": {},
   "outputs": [
    {
     "data": {
      "text/plain": [
       "1        Layin n bed with a headache  ughhhh...waitin o...\n",
       "2                      Funeral ceremony...gloomy friday...\n",
       "6        I should be sleep, but im not! thinking about ...\n",
       "8                  @charviray Charlene my love. I miss you\n",
       "9               @kelcouch I'm sorry  at least it's Friday?\n",
       "                               ...                        \n",
       "39882        Heaps keen for next weekend.     Mummy. &lt;3\n",
       "39894    @renagades Have a great day..... if the rain k...\n",
       "39909    @Ssisch Hmmm... Sisch &amp; sound design. So w...\n",
       "39939    @watermelon39 haha! And Twitter! Hard though i...\n",
       "39965                           is heading off to the fair\n",
       "Name: content, Length: 5165, dtype: object"
      ]
     },
     "execution_count": 23,
     "metadata": {},
     "output_type": "execute_result"
    }
   ],
   "source": [
    "df[df['sentiment'] == 'sadness']['content']"
   ]
  },
  {
   "cell_type": "code",
   "execution_count": 27,
   "id": "e4e4a374",
   "metadata": {},
   "outputs": [
    {
     "data": {
      "text/plain": [
       "'Layin n bed with a headache  ughhhh...waitin on your call...'"
      ]
     },
     "execution_count": 27,
     "metadata": {},
     "output_type": "execute_result"
    }
   ],
   "source": [
    "df[df['sentiment'] == 'sadness']['content'][1]"
   ]
  },
  {
   "cell_type": "code",
   "execution_count": null,
   "id": "2ebb00d4",
   "metadata": {},
   "outputs": [],
   "source": []
  }
 ],
 "metadata": {
  "kernelspec": {
   "display_name": "Python 3 (ipykernel)",
   "language": "python",
   "name": "python3"
  },
  "language_info": {
   "codemirror_mode": {
    "name": "ipython",
    "version": 3
   },
   "file_extension": ".py",
   "mimetype": "text/x-python",
   "name": "python",
   "nbconvert_exporter": "python",
   "pygments_lexer": "ipython3",
   "version": "3.8.5"
  }
 },
 "nbformat": 4,
 "nbformat_minor": 5
}
